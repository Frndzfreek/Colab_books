{
  "nbformat": 4,
  "nbformat_minor": 0,
  "metadata": {
    "colab": {
      "provenance": [],
      "authorship_tag": "ABX9TyMXZgl+MwiZYUc9WLohQd9X"
    },
    "kernelspec": {
      "name": "python3",
      "display_name": "Python 3"
    },
    "language_info": {
      "name": "python"
    }
  },
  "cells": [
    {
      "cell_type": "code",
      "execution_count": null,
      "metadata": {
        "colab": {
          "base_uri": "https://localhost:8080/"
        },
        "id": "w1KNo5ttEJXc",
        "outputId": "0a8ef5b3-b561-490a-a4ee-b01e154e8463"
      },
      "outputs": [
        {
          "output_type": "stream",
          "name": "stdout",
          "text": [
            "Hello_World!!\n",
            "Yay!\n"
          ]
        }
      ],
      "source": [
        "print(\"Hello_World!!\")\n",
        "print(\"Yay!\")"
      ]
    }
  ]
}